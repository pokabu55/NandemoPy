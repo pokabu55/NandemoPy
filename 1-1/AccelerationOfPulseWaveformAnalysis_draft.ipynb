{
 "cells": [
  {
   "cell_type": "code",
   "execution_count": null,
   "metadata": {
    "tags": []
   },
   "outputs": [],
   "source": [
    "import cv2\n",
    "import numpy as np\n",
    "import scipy.signal as signal\n",
    "import matplotlib.pyplot as plt\n",
    "%matplotlib inline\n",
    "%pylab inline"
   ]
  },
  {
   "cell_type": "code",
   "execution_count": null,
   "metadata": {},
   "outputs": [],
   "source": [
    "'''\n",
    "ライト点灯状態で撮影した動画から脈波を検出する\n",
    "'''\n",
    "\n",
    "# 撮影動画の各フレームを読み込む\n",
    "frames = 0; dataR=[]; dataG=[]; dataB=[]\n",
    "#vidcap = cv2.VideoCapture('IMG_8433.MOV')\n",
    "vidcap = cv2.VideoCapture('self1010.MOV')\n",
    "success,img = vidcap.read()\n",
    "\n",
    "# RGBを画素値を適当な領域で平均化し、個別の配列に格納\n",
    "sx = 400\n",
    "ex = 461\n",
    "sy = 400\n",
    "ey = 461\n",
    "\n",
    "startFrm = 99 #1000\n",
    "endFrm   = 900 #3000\n",
    "\n",
    "while success:\n",
    "    if startFrm <= frames and frames < endFrm:\n",
    "        dataB.append(average(img[sx:ex,sy:ey,0]))\n",
    "        dataG.append(average(img[sx:ex,sy:ey,1]))\n",
    "        dataR.append(average(img[sx:ex,sy:ey,2]))\n",
    "    frames += 1; success, img = vidcap.read()\n",
    "frames = len(dataB)"
   ]
  },
  {
   "cell_type": "code",
   "execution_count": null,
   "metadata": {},
   "outputs": [],
   "source": [
    "# 1/240 秒ごとのRGB画像の推移をグラフ化\n",
    "dtime = 240\n",
    "#x = np.arange(0, 1/240*frames-1/240,1/240)\n",
    "x = np.arange(0, 1/240*frames,1/240)\n",
    "plt.ylim([0,260])\n",
    "plt.xlim([0,8])\n",
    "plt.grid(color='gray')\n",
    "plt.plot(x, dataB, color='blue')\n",
    "plt.plot(x, dataG, color='green')\n",
    "plt.plot(x, dataR, color='red')"
   ]
  },
  {
   "cell_type": "code",
   "execution_count": null,
   "metadata": {
    "tags": []
   },
   "outputs": [],
   "source": [
    "avedata = np.convolve(dataG, np.ones(10)/10, mode='same')\n",
    "fit = np.poly1d( np.polyfit(x, avedata, 10))\n",
    "data = -(avedata-fit(x))\n",
    "from peakdetect import peakdetect\n",
    "peaks =np.array(peakdetect(data, lookahead=30)[0])\n",
    "\n",
    "plt.figure(figsize=(12,3))\n",
    "plt.ylim([-5,5])\n",
    "plt.xlim([0,8])\n",
    "plt.grid(color='gray')\n",
    "plt.plot(x, data)\n",
    "plt.plot(1/240*peaks[:,0:1],peaks[:,1:2],'ro')\n",
    "\n",
    "print(\"脈拍は{}回/分です\".format(\n",
    "        int(60/(1/240*average( np.diff(peaks[:,0])[1:10])))))"
   ]
  },
  {
   "cell_type": "code",
   "execution_count": null,
   "metadata": {},
   "outputs": [],
   "source": [
    "data = np.convolve(data, np.ones(10)/10, mode='same')\n",
    "data1stD = np.gradient(data)\n",
    "\n",
    "plt.figure(figsize=(12,3))\n",
    "plt.ylim([-0.2,0.4])\n",
    "plt.xlim([0,8])\n",
    "plt.grid(color='gray')\n",
    "plt.plot(x, data1stD)"
   ]
  },
  {
   "cell_type": "code",
   "execution_count": null,
   "metadata": {},
   "outputs": [],
   "source": [
    "data1stD = np.convolve(data1stD, np.ones(10)/10, mode='same')\n",
    "data2ndD=np.gradient(data1stD)\n",
    "\n",
    "plt.figure(figsize=(12,3))\n",
    "plt.ylim([-0.02,0.02])\n",
    "plt.xlim([0,8])\n",
    "plt.grid(color='gray')\n",
    "plt.plot(x, data2ndD )"
   ]
  },
  {
   "cell_type": "code",
   "execution_count": null,
   "metadata": {},
   "outputs": [],
   "source": [
    "data2ndD=np.gradient(data1stD[730:1090]) # [730:1090]\n",
    "peaksT =np.array(peakdetect(data2ndD, lookahead=8)[0])\n",
    "peaksB =np.array(peakdetect(-data2ndD, lookahead=8)[0])\n",
    "\n",
    "plt.figure(figsize=(6,6))\n",
    "plt.ylim([-0.02,0.025])\n",
    "plt.xlim([0,350]) # [0,350]\n",
    "\n",
    "plt.grid(color='gray')\n",
    "plt.plot(np.arange(0, len(data2ndD),1), data2ndD )\n",
    "plt.plot(peaksT[:,0:1],peaksT[:,1:2],'ro')\n",
    "plt.plot(peaksB[:,0:1],-peaksB[:,1:2],'bo')"
   ]
  },
  {
   "cell_type": "code",
   "execution_count": null,
   "metadata": {
    "tags": []
   },
   "outputs": [],
   "source": [
    "a=[]; b=[]; c=[]; d=[]; e=[]\n",
    "for i in [0,5]:\n",
    "    a.append(peaksT[i,1:2])\n",
    "    b.append(-peaksB[i,1:2])\n",
    "    c.append(peaksT[i+1,1:2])\n",
    "    d.append(-peaksB[i+1,1:2])\n",
    "    e.append(peaksT[i+2,1:2])\n",
    "sdptg= (average(b)-average(c)-average(d)-average(e))/average(a)\n",
    "\n",
    "print(\"男性なら、血管年齢{}歳\".format(int(66 + 43 * sdptg)))\n",
    "print(\"女性なら、血管年齢{}歳\".format(int(62 + 42 * sdptg)))"
   ]
  },
  {
   "cell_type": "code",
   "execution_count": null,
   "metadata": {},
   "outputs": [],
   "source": []
  }
 ],
 "metadata": {
  "kernelspec": {
   "name": "Python 3.8.5 64-bit",
   "display_name": "Python 3.8.5 64-bit",
   "metadata": {
    "interpreter": {
     "hash": "31f2aee4e71d21fbe5cf8b01ff0e069b9275f58929596ceb00d14d90e3e16cd6"
    }
   }
  },
  "language_info": {
   "codemirror_mode": {
    "name": "ipython",
    "version": 3
   },
   "file_extension": ".py",
   "mimetype": "text/x-python",
   "name": "python",
   "nbconvert_exporter": "python",
   "pygments_lexer": "ipython3",
   "version": "3.8.5-final"
  }
 },
 "nbformat": 4,
 "nbformat_minor": 1
}